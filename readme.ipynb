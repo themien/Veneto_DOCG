{
 "cells": [
  {
   "cell_type": "markdown",
   "metadata": {},
   "source": [
    "# Exploring DOCG wine areas in Veneto - Italy\n",
    "\n",
    "In this project we will cluster towns and cities located in the proximity of DOCGs areas in the Veneto regions in Italy. In order to do so, we first need to understand the key concepts of our problem.\n",
    "\n",
    "We will start with a brief introduction to italian wine classification and Veneto, and then we will dive in how we will be tackling this project. The second section contains information on the datasets used."
   ]
  },
  {
   "cell_type": "markdown",
   "metadata": {},
   "source": [
    "**TABLE OF CONTENTS**\n",
    "\n",
    " 1. [Problem description](#description)\n",
    "   1. [Italian wine classification](#preface)\n",
    "   2. [Veneto](#veneto)\n",
    "   3. [Our objective](#objective)\n",
    " 2. [The dataset](#data)"
   ]
  },
  {
   "cell_type": "markdown",
   "metadata": {},
   "source": [
    "## 1. Problem description <a id='description'></a>"
   ]
  },
  {
   "cell_type": "markdown",
   "metadata": {},
   "source": [
    "### A. Italian wine classification <a id='preface'></a>"
   ]
  },
  {
   "cell_type": "markdown",
   "metadata": {},
   "source": [
    "Wine is produced in every region of Italy, which is home to some of the oldest wine-producing areas in the world. Italy is the world's largest producer of wine, with an area of 702,000 hectares under vineyard cultivation, and contributing a annual average of 48.3 million hl of wine.\n",
    "\n",
    "In 1963, the first official Italian system of classification of wines was launched. Since then, several modifications and additions to the legislation have been made. The last modification established four basic wine categories. The categories, from the bottom to the top level, are:\n",
    "\n",
    " - Vino da Tavola (Table Wines): generic wines that are made either mostly from one kind of authorized 'international' grape variety or entirely from two or more of them.\n",
    " - Vini IGT (Wines with Protected Geographical Indication): wines produced in a specific territory within Italy. These need following a series of specific and precise regulations on authorized varieties, viticultural and vinification practices, labeling instructions, etc. \n",
    " - Vini DOP (Wines with Protected Designation of Origin): This category includes two sub-categories: \n",
    "   - Vini DOC (Controlled Designation of Origin). DOC wines generally come from smaller regions that are particularly vocated for their climatic and geological characteristics, quality, and originality of local winemaking traditions. \n",
    "   - Vini DOCG (Controlled and Guaranteed Designation of Origin): In addition to fulfilling the requisites for DOC wines, DOCG wines must pass stricter analyses prior to commercialization. They must also demonstrate a superior commercial success. "
   ]
  },
  {
   "cell_type": "markdown",
   "metadata": {},
   "source": [
    "<img src='img/classification-pyramid.png' width=600 height=600 />"
   ]
  },
  {
   "cell_type": "markdown",
   "metadata": {},
   "source": [
    "### B. Veneto <a id='veneto'></a>"
   ]
  },
  {
   "cell_type": "markdown",
   "metadata": {},
   "source": [
    "Veneto is a gem of a region in the northeast corner of Italy. Bound on the west by Lake Garda, on the north by the Dolomite Mountains and on the east by the Adriatic Sea, the landscape of the Veneto is rich and varied. From the grandeur of crumbly old Venice to the medieval flavor of Bassano del Grappa, and on to Belluno, a striking town that's a gateway for visiting the Dolomites, the Veneto makes a fascinating region to explore.\n",
    "\n",
    "Veneto is one of the leading Italian regions in terms of quantity and quality production of grapes. The wines produced in this region are famous throughout the world: Prosecco, Amarone, Recioto, Soave, Valpolicella and Bardolino, are only a few of the names of wines known at international level.\n",
    "\n",
    "Veneto is also the region that can count the highest number of DOCGs areas. "
   ]
  },
  {
   "cell_type": "markdown",
   "metadata": {},
   "source": [
    "### C. Our objective"
   ]
  },
  {
   "cell_type": "markdown",
   "metadata": {},
   "source": [
    "Now that we are familiar with DOCGs and the Veneto region we can define our objective.\n",
    "\n",
    "There are many beautiful cities located within or in proximity of DOCG areas. These cities offer the most different kind of activities and venues. In this project we will cluster these cities so that we can recommend similar places to visit based on the preferred type of activity.\n",
    "\n",
    "Data science problems always target an audience and are meant to help a group of stakeholders solve a problem, in this occasion we will be focusing on tourists that would like to visit these vineyard areas and at the same time enjoy their preferred activities."
   ]
  },
  {
   "cell_type": "markdown",
   "metadata": {},
   "source": [
    "## 2. The dataset <a id='data'></a>"
   ]
  },
  {
   "cell_type": "markdown",
   "metadata": {},
   "source": [
    "We acquired data regarding cities in the Veneto region. This includes various cities located within or in the proximity of DOCG areas. \n",
    "\n",
    "This data includes:\n",
    "\n",
    " - city_name: the name of the city\n",
    " - coordinates: the latitude and longitude coordinates\n",
    " - close_to: DOCGs in the proximity\n",
    " \n",
    " We have are also using a <code>geojson</code> file containing the information regarding the geographical shapes of the DOCG areas, this will be used for plotting.\n",
    " \n",
    " Lastly, with the use of the Foursquare API, we have obtained infomation about venues and activities within\n",
    " this cities."
   ]
  }
 ],
 "metadata": {
  "kernelspec": {
   "display_name": "Python 3",
   "language": "python",
   "name": "python3"
  },
  "language_info": {
   "codemirror_mode": {
    "name": "ipython",
    "version": 3
   },
   "file_extension": ".py",
   "mimetype": "text/x-python",
   "name": "python",
   "nbconvert_exporter": "python",
   "pygments_lexer": "ipython3",
   "version": "3.8.3"
  }
 },
 "nbformat": 4,
 "nbformat_minor": 4
}
