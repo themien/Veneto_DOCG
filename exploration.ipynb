{
 "cells": [
  {
   "cell_type": "markdown",
   "metadata": {},
   "source": [
    "# Exploring the datasets"
   ]
  },
  {
   "cell_type": "markdown",
   "metadata": {},
   "source": [
    "After discussing our project on [readme.ipynb](readme.ipynb) it's now time to obtain the data e transform it as needed for our project. We will the proceed with some data exploration to get familiar with the dataset. "
   ]
  },
  {
   "cell_type": "markdown",
   "metadata": {},
   "source": [
    "**TABLE OF CONTENTS**\n",
    "\n",
    " 1. "
   ]
  },
  {
   "cell_type": "markdown",
   "metadata": {},
   "source": [
    "## Importing the libraries"
   ]
  },
  {
   "cell_type": "code",
   "execution_count": 1,
   "metadata": {},
   "outputs": [],
   "source": [
    "import folium\n",
    "import json\n",
    "import matplotlib.cm as cm\n",
    "import matplotlib.colors as colors\n",
    "import matplotlib.pyplot as plt\n",
    "import numpy as np\n",
    "import os\n",
    "import pandas as pd\n",
    "pd.set_option('display.max_columns', None)\n",
    "pd.set_option('display.max_rows', None)\n",
    "import requests\n",
    "import seaborn as sns\n",
    "sns.set()#(style=\"whitegrid\")\n",
    "import shapefile as shp\n",
    "\n",
    "from IPython.display import Image, IFrame\n",
    "from IPython.core.display import HTML \n",
    "from sklearn.cluster import KMeans"
   ]
  },
  {
   "cell_type": "markdown",
   "metadata": {},
   "source": [
    "## Getting the relevant jeojson data"
   ]
  },
  {
   "cell_type": "markdown",
   "metadata": {},
   "source": [
    "The <code>SHP</code> file containg the data regarding DOCGs in the Veneto region has been made freely available at this [link](http://www.datiopen.it/it/opendata/Regione_Veneto_Zone_Denominazione_Origine_Controllata_Garantita) by DatiOpen.\n",
    "\n",
    "A SHP (shapefile) is a simple, nontopological format for storing the geometric location and attribute information of geographic features. Geographic features in a shapefile can be represented by points, lines, or polygons (areas). The workspace containing shapefiles may also contain dBASE tables, which can store additional attributes that can be joined to a shapefile's features.\n",
    "\n",
    "in Python, in order to deal with the shapefile we can use the <code>pyshp</code> library. We will then need to convert the file to <code>geojson</code> format in order to utilise it with <code>folium</code>. "
   ]
  },
  {
   "cell_type": "code",
   "execution_count": 2,
   "metadata": {},
   "outputs": [],
   "source": [
    "shp_path = 'data/shapefile_data/Zone_DOCG.shp'\n",
    "\n",
    "sf = shp.Reader(shp_path)"
   ]
  },
  {
   "cell_type": "markdown",
   "metadata": {},
   "source": [
    "We then create a function to read the shapefile into a pandas <code>DataFrame</code>."
   ]
  },
  {
   "cell_type": "code",
   "execution_count": 3,
   "metadata": {},
   "outputs": [],
   "source": [
    "def read_shapefile(sf):\n",
    "    \"\"\"\n",
    "    Read a shapefile into a Pandas dataframe with a 'coords' \n",
    "    column holding the geometry information. This uses the pyshp\n",
    "    package\n",
    "    \"\"\"\n",
    "    fields = [x[0] for x in sf.fields][1:]\n",
    "    records = sf.records()\n",
    "    shps = [s.points for s in sf.shapes()]\n",
    "    df = pd.DataFrame(columns=fields, data=records)\n",
    "    df = df.assign(coords=shps)\n",
    "    return df"
   ]
  },
  {
   "cell_type": "code",
   "execution_count": 4,
   "metadata": {},
   "outputs": [
    {
     "data": {
      "text/html": [
       "<div>\n",
       "<style scoped>\n",
       "    .dataframe tbody tr th:only-of-type {\n",
       "        vertical-align: middle;\n",
       "    }\n",
       "\n",
       "    .dataframe tbody tr th {\n",
       "        vertical-align: top;\n",
       "    }\n",
       "\n",
       "    .dataframe thead th {\n",
       "        text-align: right;\n",
       "    }\n",
       "</style>\n",
       "<table border=\"1\" class=\"dataframe\">\n",
       "  <thead>\n",
       "    <tr style=\"text-align: right;\">\n",
       "      <th></th>\n",
       "      <th>denominazi</th>\n",
       "      <th>codice</th>\n",
       "      <th>zona</th>\n",
       "      <th>atto</th>\n",
       "      <th>GU</th>\n",
       "      <th>coords</th>\n",
       "    </tr>\n",
       "  </thead>\n",
       "  <tbody>\n",
       "    <tr>\n",
       "      <th>0</th>\n",
       "      <td>RECIOTO SOAVE CLASSICO</td>\n",
       "      <td>A021</td>\n",
       "      <td>A</td>\n",
       "      <td>D.M. 18/11/2010</td>\n",
       "      <td>n. 283 del 03/12/2010</td>\n",
       "      <td>[(11.252029507865142, 45.41758433331832), (11....</td>\n",
       "    </tr>\n",
       "    <tr>\n",
       "      <th>1</th>\n",
       "      <td>RECIOTO SOAVE</td>\n",
       "      <td>A021</td>\n",
       "      <td>X</td>\n",
       "      <td>D.M. 18/11/2010</td>\n",
       "      <td>n. 283 del 03/12/2010</td>\n",
       "      <td>[(11.207064614961942, 45.4507371295929), (11.2...</td>\n",
       "    </tr>\n",
       "    <tr>\n",
       "      <th>2</th>\n",
       "      <td>BARDOLINO SUPERIORE CLASSICO</td>\n",
       "      <td>A025</td>\n",
       "      <td>A</td>\n",
       "      <td>D. M. 08/01/2011</td>\n",
       "      <td>n. 275 del 25/11/2011</td>\n",
       "      <td>[(10.794778650134427, 45.518760038125784), (10...</td>\n",
       "    </tr>\n",
       "    <tr>\n",
       "      <th>3</th>\n",
       "      <td>BARDOLINO SUPERIORE</td>\n",
       "      <td>A025</td>\n",
       "      <td>X</td>\n",
       "      <td>D. M. 08/01/2011</td>\n",
       "      <td>n. 275 del 25/11/2011</td>\n",
       "      <td>[(10.843049258063267, 45.43160165449561), (10....</td>\n",
       "    </tr>\n",
       "    <tr>\n",
       "      <th>4</th>\n",
       "      <td>SOAVE SUPERIORE CLASSICO</td>\n",
       "      <td>A026</td>\n",
       "      <td>A</td>\n",
       "      <td>D.M. 18/11/2010</td>\n",
       "      <td>n. 283 del 03/12/2010</td>\n",
       "      <td>[(11.252029507865142, 45.41758433331832), (11....</td>\n",
       "    </tr>\n",
       "  </tbody>\n",
       "</table>\n",
       "</div>"
      ],
      "text/plain": [
       "                     denominazi codice zona              atto  \\\n",
       "0        RECIOTO SOAVE CLASSICO   A021    A   D.M. 18/11/2010   \n",
       "1                 RECIOTO SOAVE   A021    X   D.M. 18/11/2010   \n",
       "2  BARDOLINO SUPERIORE CLASSICO   A025    A  D. M. 08/01/2011   \n",
       "3           BARDOLINO SUPERIORE   A025    X  D. M. 08/01/2011   \n",
       "4      SOAVE SUPERIORE CLASSICO   A026    A   D.M. 18/11/2010   \n",
       "\n",
       "                      GU                                             coords  \n",
       "0  n. 283 del 03/12/2010  [(11.252029507865142, 45.41758433331832), (11....  \n",
       "1  n. 283 del 03/12/2010  [(11.207064614961942, 45.4507371295929), (11.2...  \n",
       "2  n. 275 del 25/11/2011  [(10.794778650134427, 45.518760038125784), (10...  \n",
       "3  n. 275 del 25/11/2011  [(10.843049258063267, 45.43160165449561), (10....  \n",
       "4  n. 283 del 03/12/2010  [(11.252029507865142, 45.41758433331832), (11....  "
      ]
     },
     "execution_count": 4,
     "metadata": {},
     "output_type": "execute_result"
    }
   ],
   "source": [
    "df = read_shapefile(sf)\n",
    "df.head()"
   ]
  },
  {
   "cell_type": "code",
   "execution_count": 6,
   "metadata": {},
   "outputs": [],
   "source": [
    "def shape2json(fname, outfile=\"veneto_docg.json\", country='Italy'):\n",
    "    reader = shp.Reader(fname)\n",
    "    \n",
    "    fields = reader.fields[1:]\n",
    "    field_names = [field[0] for field in fields]\n",
    "    buffer = []\n",
    "    for sr in reader.shapeRecords():\n",
    "        atr = dict(zip(field_names, sr.record))\n",
    "        geom = sr.shape.__geo_interface__\n",
    "        buffer.append(dict(type=\"Feature\", \\\n",
    "        geometry=geom, properties=atr)) \n",
    "\n",
    "    with open(outfile, \"w\") as geojson:\n",
    "        geojson.write(json.dumps({\"type\": \"FeatureCollection\",\n",
    "                             \"features\": buffer}, indent=2) + \"\\n\")\n",
    "\n",
    "shape2json(shp_path, outfile=\"data/veneto_docg.json\", country='Italy')"
   ]
  },
  {
   "cell_type": "code",
   "execution_count": null,
   "metadata": {},
   "outputs": [],
   "source": []
  }
 ],
 "metadata": {
  "kernelspec": {
   "display_name": "Python 3",
   "language": "python",
   "name": "python3"
  },
  "language_info": {
   "codemirror_mode": {
    "name": "ipython",
    "version": 3
   },
   "file_extension": ".py",
   "mimetype": "text/x-python",
   "name": "python",
   "nbconvert_exporter": "python",
   "pygments_lexer": "ipython3",
   "version": "3.8.3"
  }
 },
 "nbformat": 4,
 "nbformat_minor": 4
}
